{
 "cells": [
  {
   "cell_type": "code",
   "execution_count": 1,
   "metadata": {},
   "outputs": [],
   "source": [
    "import tensorflow as tf"
   ]
  },
  {
   "cell_type": "markdown",
   "metadata": {},
   "source": [
    "### 텐서플로우 행렬의 표현"
   ]
  },
  {
   "cell_type": "code",
   "execution_count": 2,
   "metadata": {},
   "outputs": [],
   "source": [
    "input_data = [\n",
    "    [1,1,1],[2,2,2]\n",
    "]"
   ]
  },
  {
   "cell_type": "code",
   "execution_count": 3,
   "metadata": {},
   "outputs": [],
   "source": [
    "x = tf.placeholder(dtype = tf.float32, shape = [2,3])\n",
    "w = tf.Variable([[2],[2],[2]], dtype = tf.float32)\n",
    "b = tf.Variable([4], dtype = tf.float32)\n",
    "y = tf.matmul(x,w) + b\n"
   ]
  },
  {
   "cell_type": "markdown",
   "metadata": {},
   "source": [
    "### 텐서플로우에서 행렬의 곱은 일반 *을 사용하지 않고, 텐서플로우 함수 tf.matmul을 사용한다."
   ]
  },
  {
   "cell_type": "code",
   "execution_count": 4,
   "metadata": {},
   "outputs": [
    {
     "data": {
      "text/plain": [
       "TensorShape([Dimension(2), Dimension(3)])"
      ]
     },
     "execution_count": 4,
     "metadata": {},
     "output_type": "execute_result"
    }
   ],
   "source": [
    "x.get_shape()"
   ]
  },
  {
   "cell_type": "code",
   "execution_count": 5,
   "metadata": {},
   "outputs": [],
   "source": [
    "sess = tf.Session()\n",
    "init = tf.global_variables_initializer()\n",
    "sess.run(init)\n",
    "result = sess.run(y, feed_dict={x:input_data})"
   ]
  },
  {
   "cell_type": "markdown",
   "metadata": {},
   "source": [
    "### 텐서플로우에서 행렬 차원 용어\n",
    "### 행렬이 아닌 숫자나 상수 0차원 : 스칼라 Scalar\n",
    "### 1차원 행렬 : 벡터 Vector\n",
    "### 2차원 행렬 : 매트릭스 Matrix\n",
    "### 3차원 행렬 : 3-Tensor 또는 큐브\n",
    "### 그 이상의 다차원 행렬 : n-tensor\n",
    "\n",
    "### reduce_sum"
   ]
  },
  {
   "cell_type": "code",
   "execution_count": 9,
   "metadata": {},
   "outputs": [],
   "source": [
    "x = [[1,1,1],\n",
    "     [1,1,1]\n",
    "]"
   ]
  },
  {
   "cell_type": "code",
   "execution_count": 10,
   "metadata": {},
   "outputs": [
    {
     "data": {
      "text/plain": [
       "2"
      ]
     },
     "execution_count": 10,
     "metadata": {},
     "output_type": "execute_result"
    }
   ],
   "source": [
    "tf.rank(x).eval(session = sess) # 차원수 2"
   ]
  },
  {
   "cell_type": "code",
   "execution_count": 13,
   "metadata": {},
   "outputs": [
    {
     "data": {
      "text/plain": [
       "array([2, 2, 2])"
      ]
     },
     "execution_count": 13,
     "metadata": {},
     "output_type": "execute_result"
    }
   ],
   "source": [
    "tf.reduce_sum(x, axis = 0).eval(session = sess)\n",
    "# axis 파라미터는 제거할 축\n",
    "# reduce all dim 전체 합을 구하라 (1 + 1 + 1 + 1 + 1 + 1 = 6)\n",
    "# 그 결과 모든 차원이 제거되고, 단 하나의 스칼라 값이 출력됨"
   ]
  },
  {
   "cell_type": "code",
   "execution_count": 18,
   "metadata": {},
   "outputs": [
    {
     "data": {
      "text/plain": [
       "array([4, 6])"
      ]
     },
     "execution_count": 18,
     "metadata": {},
     "output_type": "execute_result"
    }
   ],
   "source": [
    "tf.reduce_sum(x, axis=1).eval(session = sess)\n",
    "# 1 인덱스 차원을 제거하고, 0 인텍스 차원에 합해라\n",
    "# [1 + 1 + 1 = 3, 1 + 1 + 1 = 3] # array([3,3])"
   ]
  },
  {
   "cell_type": "code",
   "execution_count": 15,
   "metadata": {},
   "outputs": [
    {
     "data": {
      "text/plain": [
       "array([[3],\n",
       "       [3]])"
      ]
     },
     "execution_count": 15,
     "metadata": {},
     "output_type": "execute_result"
    }
   ],
   "source": [
    "tf.reduce_sum(x, axis=1, keepdims = True).eval(session = sess)\n",
    "# 1 인덱스 차원 제거 위해 0 인덱스 차원에 합한다. [1 + 1 + 1 = 3, 1 + 1 + 1 = 3] \n",
    "# keepdims 는 결과를 얻고 최초 차원을 유지해라.\n",
    "# array[[3], [3]]"
   ]
  },
  {
   "cell_type": "markdown",
   "metadata": {},
   "source": [
    "### reduce_mean 함수"
   ]
  },
  {
   "cell_type": "code",
   "execution_count": 17,
   "metadata": {},
   "outputs": [
    {
     "data": {
      "text/plain": [
       "2"
      ]
     },
     "execution_count": 17,
     "metadata": {},
     "output_type": "execute_result"
    }
   ],
   "source": [
    "x = [[2,2],[3,3]]\n",
    "tf.reduce_mean(x).eval(session = sess)\n",
    "# reduce all dim 전체 평균을 구한다. (2 + 2 + 3 + 3) / 4 = 2.5\n",
    "# 모든 차원이 제거되고 단 하나의 스칼라 값이 출력된다."
   ]
  },
  {
   "cell_type": "code",
   "execution_count": null,
   "metadata": {},
   "outputs": [],
   "source": []
  }
 ],
 "metadata": {
  "kernelspec": {
   "display_name": "Python 3",
   "language": "python",
   "name": "python3"
  },
  "language_info": {
   "codemirror_mode": {
    "name": "ipython",
    "version": 3
   },
   "file_extension": ".py",
   "mimetype": "text/x-python",
   "name": "python",
   "nbconvert_exporter": "python",
   "pygments_lexer": "ipython3",
   "version": "3.6.7"
  }
 },
 "nbformat": 4,
 "nbformat_minor": 2
}
